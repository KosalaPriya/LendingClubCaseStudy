{
 "cells": [
  {
   "cell_type": "markdown",
   "id": "eaa3f20f",
   "metadata": {},
   "source": [
    "# LENDING CLUB CASE STUDY"
   ]
  },
  {
   "cell_type": "code",
   "execution_count": 49,
   "id": "a0345023",
   "metadata": {},
   "outputs": [
    {
     "name": "stderr",
     "output_type": "stream",
     "text": [
      "C:\\Users\\kosala.priya.c.r@sap.com\\AppData\\Local\\Temp\\ipykernel_3868\\2200646011.py:12: DtypeWarning: Columns (47) have mixed types. Specify dtype option on import or set low_memory=False.\n",
      "  df = pd.read_csv('loan.csv')\n"
     ]
    },
    {
     "name": "stdout",
     "output_type": "stream",
     "text": [
      "<class 'pandas.core.frame.DataFrame'>\n",
      "Int64Index: 38577 entries, 0 to 39716\n",
      "Data columns (total 21 columns):\n",
      " #   Column                Non-Null Count  Dtype   \n",
      "---  ------                --------------  -----   \n",
      " 0   loan_amnt             38577 non-null  int64   \n",
      " 1   funded_amnt           38577 non-null  int64   \n",
      " 2   funded_amnt_inv       38577 non-null  float64 \n",
      " 3   term                  38577 non-null  object  \n",
      " 4   int_rate              38577 non-null  object  \n",
      " 5   installment           38577 non-null  float64 \n",
      " 6   grade                 38577 non-null  object  \n",
      " 7   sub_grade             38577 non-null  object  \n",
      " 8   emp_title             36191 non-null  object  \n",
      " 9   wrk_experience        37544 non-null  float64 \n",
      " 10  home_ownership        38577 non-null  object  \n",
      " 11  annual_inc            38577 non-null  float64 \n",
      " 12  verification_status   38577 non-null  object  \n",
      " 13  loan_funded_date      38577 non-null  object  \n",
      " 14  loan_status           38577 non-null  object  \n",
      " 15  purpose               38577 non-null  object  \n",
      " 16  title                 38566 non-null  object  \n",
      " 17  State                 38577 non-null  object  \n",
      " 18  debt_income_ratio     38577 non-null  float64 \n",
      " 19  bankruptcies          37880 non-null  float64 \n",
      " 20  Wrk_experience_range  37544 non-null  category\n",
      "dtypes: category(1), float64(6), int64(2), object(12)\n",
      "memory usage: 6.2+ MB\n",
      "None\n"
     ]
    }
   ],
   "source": [
    "#Importing Pandas package\n",
    "import pandas as pd\n",
    "#Importing Numpy package\n",
    "import numpy as np\n",
    "# Importing missingno package\n",
    "#import missingno as msno\n",
    "import matplotlib.pyplot as plt\n",
    "\n",
    "#Lending Club Case study\n",
    "\n",
    "#Reading the CSV file using Pandas and converting it to the data frame\n",
    "df = pd.read_csv('loan.csv')\n",
    "\n",
    "\n",
    " \n",
    "#Sorting and collecting the data only for Fully paid and Charged Off\n",
    "#We are removing the current loan status from the list since the current status indicates already a loan is going on and our \n",
    "#analysis is for the investors to decide on funding on accepted new loans\n",
    "loan_status = ['Fully Paid','Charged Off']\n",
    "Filter_df = df.loc[df['loan_status'].isin(loan_status)]\n",
    "\n",
    "#Removing the customer behaviour variable because these variables are related to customer who is having current loan\n",
    "#But our goal is to suggest the investor on new loan to borrowers with existing data\n",
    "\n",
    "loan_df = Filter_df.drop(['delinq_2yrs','earliest_cr_line','inq_last_6mths','mths_since_last_delinq','mths_since_last_record','open_acc','pub_rec','revol_bal','revol_util','total_acc','initial_list_status','out_prncp','out_prncp_inv','total_pymnt','total_pymnt_inv','total_rec_prncp','total_rec_int','total_rec_late_fee','recoveries','collection_recovery_fee','last_pymnt_d','last_pymnt_amnt','next_pymnt_d','last_credit_pull_d','collections_12_mths_ex_med','mths_since_last_major_derog','policy_code','application_type'],axis =1)\n",
    "  \n",
    "#Removing the columns where the null values precentage is greater than 90%\n",
    "#In these columns only the values marked are NA\n",
    "Final_loan = loan_df.drop(['annual_inc_joint','dti_joint','verification_status_joint','acc_now_delinq','tot_coll_amt','tot_cur_bal','open_acc_6m','open_il_6m','open_il_12m','open_il_24m','mths_since_rcnt_il','total_bal_il','il_util','open_rv_12m','open_rv_24m','max_bal_bc','all_util','total_rev_hi_lim','inq_fi','total_cu_tl','inq_last_12m','acc_open_past_24mths','avg_cur_bal','bc_open_to_buy','bc_util','chargeoff_within_12_mths','delinq_amnt','mo_sin_old_il_acct','mo_sin_old_rev_tl_op','mo_sin_rcnt_rev_tl_op','mo_sin_rcnt_tl','mort_acc','mths_since_recent_bc','mths_since_recent_bc_dlq','mths_since_recent_inq','mths_since_recent_revol_delinq','num_accts_ever_120_pd','num_actv_bc_tl','num_actv_rev_tl','num_bc_sats','num_bc_tl','num_il_tl','num_op_rev_tl','num_rev_accts','num_rev_tl_bal_gt_0','num_sats','num_tl_120dpd_2m','num_tl_30dpd','num_tl_90g_dpd_24m','num_tl_op_past_12m','pct_tl_nvr_dlq','percent_bc_gt_75','tax_liens','tot_hi_cred_lim','total_bal_ex_mort','total_bc_limit','total_il_high_credit_limit'],axis =1)\n",
    "\n",
    "#msno.matrix(Final_loan)\n",
    "\n",
    "\n",
    "#Removing the months string from column 'term' for calculations\n",
    "Final_loan['term'] = Final_loan['term'].str.replace('\\D','',regex=True)\n",
    "\n",
    "\n",
    "Final_loan1 = Final_loan.drop(['url','pymnt_plan','zip_code','desc','id'],axis=1)\n",
    "#Removing the % symbol from interest rate\n",
    "Final_loan1['int_rate'] = Final_loan1['int_rate'].str.replace('%','',regex=True)\n",
    "Final_loan1['emp_length'] = Final_loan1['emp_length'].str.replace('years','',regex=True)\n",
    "Final_loan1['emp_length'] = Final_loan1['emp_length'].str.replace('year','',regex=True)\n",
    "\n",
    "Final_loan1['emp_length'] = Final_loan1['emp_length'].str.replace('< 1','0',regex=True)\n",
    "\n",
    "Final_loan1['emp_length'] = Final_loan1['emp_length'].str.replace('+','0',regex=True)\n",
    "\n",
    "\n",
    "\n",
    "\n",
    "#Renaming columns with more readable title\n",
    "Final_loan1.rename(columns={'emp_length': 'wrk_experience', 'issue_d': 'loan_funded_date', 'addr_state': 'State','dti': 'debt_income_ratio','pub_rec_bankruptcies': 'bankruptcies'}, inplace=True)\n",
    "#Final_loan1.to_csv(\"loan1.csv\")\n",
    "\n",
    "\n",
    "#Checking if there are duplicate entries for borrowers based on member_id column\n",
    "duplicate = Final_loan1[Final_loan1.duplicated('member_id')]\n",
    "#Since there are no duplicates, dropping the column memeber_id\n",
    "Final_loan1 = Final_loan1.drop(['member_id'],axis=1)\n",
    "\n",
    "\n",
    "\n",
    "#Wrk_experience is an impactful variable. But the data type of this variable is \"Object\" which makes it tough to analyse.\n",
    "#Hence, standardising the data type of wrk_experience column\n",
    "\n",
    "Final_loan1['wrk_experience'] = Final_loan1['wrk_experience'].astype(str).astype(float)\n",
    "\n",
    "\n",
    "\n",
    "#Wrk_experience is a continuous quantitative variable with lot of differnet values Binning the wrk_experience column to three buckets for better analysis : Experience within one year, 1-10 year and more than 10 years\n",
    "bins = [-1, 0, 10, 100]\n",
    "labels = [\"Within1\",\"1-10\",\"more than 10\"]\n",
    "Final_loan1['Wrk_experience_range'] = pd.cut(Final_loan1['wrk_experience'], bins, labels)\n",
    "\n",
    "#After data cleaning and filtration,  our data set has 21 columns\n",
    "#Understanding of columns\n",
    "\n",
    "\n",
    "#1.\n",
    "#2.\n",
    "#3.\n",
    "\n"
   ]
  },
  {
   "cell_type": "code",
   "execution_count": null,
   "id": "772362c6",
   "metadata": {},
   "outputs": [],
   "source": [
    "#Univariate analysis\n",
    "#before we derive insights from univariate analysis,we try to classify what kind of variables do we have\n",
    "#As we have learnt, there are three main types : Ordered Categorical, Unordered Categorical and Quantitative Variables\n",
    "# Below is the results of classifying the variables we have in our data set to theese three types\n",
    "\n",
    "#1. Ordered Categorical : term, grade, sub_grade, Wrk_experience_range, bankruptcies\n",
    "#2. Unordered Categorical : purpose, verification_status, loan_status, state\n",
    "#3.Quantitative : loan_amnt, funded_amnt, funded_amnt_inv, int_rate, installment, annual_inc, debt_income_ratio"
   ]
  },
  {
   "cell_type": "code",
   "execution_count": 50,
   "id": "7a4d07c4",
   "metadata": {},
   "outputs": [
    {
     "data": {
      "text/plain": [
       "<Axes: >"
      ]
     },
     "execution_count": 50,
     "metadata": {},
     "output_type": "execute_result"
    },
    {
     "data": {
      "image/png": "[encoded data removed]",
      "text/plain": [
       "<Figure size 640x480 with 1 Axes>"
      ]
     },
     "metadata": {},
     "output_type": "display_data"
    }
   ],
   "source": [
    "#1. Wrk_experience_range is now an ordered categroical variable since this can be categorixed into one of the three buckets and they follow an increasing order\n",
    "Final_loan1['Wrk_experience_range'].value_counts().plot(kind=\"barh\")\n",
    "#Final_loan1.boxplot(column=['Wrk_experience_range'], grid=False, color='black')\n"
   ]
  },
  {
   "cell_type": "code",
   "execution_count": null,
   "id": "3ca3cb59",
   "metadata": {},
   "outputs": [],
   "source": [
    "#Observation : Clearly, people who have 1-10 years of work experience have taken more loans compared to others. \n"
   ]
  },
  {
   "cell_type": "code",
   "execution_count": 54,
   "id": "e1686b78",
   "metadata": {},
   "outputs": [
    {
     "data": {
      "text/html": [
       "<div>\n",
       "<style scoped>\n",
       "    .dataframe tbody tr th:only-of-type {\n",
       "        vertical-align: middle;\n",
       "    }\n",
       "\n",
       "    .dataframe tbody tr th {\n",
       "        vertical-align: top;\n",
       "    }\n",
       "\n",
       "    .dataframe thead th {\n",
       "        text-align: right;\n",
       "    }\n",
       "</style>\n",
       "<table border=\"1\" class=\"dataframe\">\n",
       "  <thead>\n",
       "    <tr style=\"text-align: right;\">\n",
       "      <th></th>\n",
       "      <th>loan_amnt</th>\n",
       "      <th>funded_amnt</th>\n",
       "      <th>funded_amnt_inv</th>\n",
       "      <th>term</th>\n",
       "      <th>int_rate</th>\n",
       "      <th>installment</th>\n",
       "      <th>grade</th>\n",
       "      <th>sub_grade</th>\n",
       "      <th>emp_title</th>\n",
       "      <th>wrk_experience</th>\n",
       "      <th>...</th>\n",
       "      <th>annual_inc</th>\n",
       "      <th>verification_status</th>\n",
       "      <th>loan_funded_date</th>\n",
       "      <th>loan_status</th>\n",
       "      <th>purpose</th>\n",
       "      <th>title</th>\n",
       "      <th>State</th>\n",
       "      <th>debt_income_ratio</th>\n",
       "      <th>bankruptcies</th>\n",
       "      <th>Wrk_experience_range</th>\n",
       "    </tr>\n",
       "  </thead>\n",
       "  <tbody>\n",
       "    <tr>\n",
       "      <th>14127</th>\n",
       "      <td>3600</td>\n",
       "      <td>3600</td>\n",
       "      <td>3600.0</td>\n",
       "      <td>36</td>\n",
       "      <td>17.99</td>\n",
       "      <td>130.14</td>\n",
       "      <td>E</td>\n",
       "      <td>E1</td>\n",
       "      <td>DENT FIX EQUIPMENT</td>\n",
       "      <td>100.0</td>\n",
       "      <td>...</td>\n",
       "      <td>85000.0</td>\n",
       "      <td>Source Verified</td>\n",
       "      <td>Jun-11</td>\n",
       "      <td>Fully Paid</td>\n",
       "      <td>debt_consolidation</td>\n",
       "      <td>Debt Consolidation Loan</td>\n",
       "      <td>CA</td>\n",
       "      <td>6.35</td>\n",
       "      <td>2.0</td>\n",
       "      <td>(10, 100]</td>\n",
       "    </tr>\n",
       "    <tr>\n",
       "      <th>18724</th>\n",
       "      <td>15000</td>\n",
       "      <td>15000</td>\n",
       "      <td>15000.0</td>\n",
       "      <td>36</td>\n",
       "      <td>16.40</td>\n",
       "      <td>530.33</td>\n",
       "      <td>E</td>\n",
       "      <td>E1</td>\n",
       "      <td>DELTA MECHANICAL</td>\n",
       "      <td>6.0</td>\n",
       "      <td>...</td>\n",
       "      <td>98000.0</td>\n",
       "      <td>Source Verified</td>\n",
       "      <td>Mar-11</td>\n",
       "      <td>Charged Off</td>\n",
       "      <td>debt_consolidation</td>\n",
       "      <td>DEBT CONSOLIDATION LOAN</td>\n",
       "      <td>AZ</td>\n",
       "      <td>11.41</td>\n",
       "      <td>2.0</td>\n",
       "      <td>(0, 10]</td>\n",
       "    </tr>\n",
       "    <tr>\n",
       "      <th>23127</th>\n",
       "      <td>8000</td>\n",
       "      <td>8000</td>\n",
       "      <td>8000.0</td>\n",
       "      <td>36</td>\n",
       "      <td>13.35</td>\n",
       "      <td>270.91</td>\n",
       "      <td>C</td>\n",
       "      <td>C4</td>\n",
       "      <td>Regions Bank</td>\n",
       "      <td>0.0</td>\n",
       "      <td>...</td>\n",
       "      <td>34000.0</td>\n",
       "      <td>Verified</td>\n",
       "      <td>Nov-10</td>\n",
       "      <td>Fully Paid</td>\n",
       "      <td>credit_card</td>\n",
       "      <td>Consolidation</td>\n",
       "      <td>NC</td>\n",
       "      <td>16.62</td>\n",
       "      <td>2.0</td>\n",
       "      <td>(-1, 0]</td>\n",
       "    </tr>\n",
       "    <tr>\n",
       "      <th>23381</th>\n",
       "      <td>10000</td>\n",
       "      <td>10000</td>\n",
       "      <td>10000.0</td>\n",
       "      <td>36</td>\n",
       "      <td>10.36</td>\n",
       "      <td>324.37</td>\n",
       "      <td>B</td>\n",
       "      <td>B5</td>\n",
       "      <td>Armand morin network</td>\n",
       "      <td>7.0</td>\n",
       "      <td>...</td>\n",
       "      <td>45600.0</td>\n",
       "      <td>Source Verified</td>\n",
       "      <td>Nov-10</td>\n",
       "      <td>Charged Off</td>\n",
       "      <td>credit_card</td>\n",
       "      <td>Cc payoff</td>\n",
       "      <td>NC</td>\n",
       "      <td>15.92</td>\n",
       "      <td>2.0</td>\n",
       "      <td>(0, 10]</td>\n",
       "    </tr>\n",
       "    <tr>\n",
       "      <th>31554</th>\n",
       "      <td>3000</td>\n",
       "      <td>3000</td>\n",
       "      <td>3000.0</td>\n",
       "      <td>36</td>\n",
       "      <td>16.82</td>\n",
       "      <td>106.69</td>\n",
       "      <td>E</td>\n",
       "      <td>E2</td>\n",
       "      <td>JPMorgan Chase</td>\n",
       "      <td>9.0</td>\n",
       "      <td>...</td>\n",
       "      <td>37100.0</td>\n",
       "      <td>Not Verified</td>\n",
       "      <td>Mar-10</td>\n",
       "      <td>Fully Paid</td>\n",
       "      <td>other</td>\n",
       "      <td>Dental Works</td>\n",
       "      <td>AZ</td>\n",
       "      <td>17.92</td>\n",
       "      <td>2.0</td>\n",
       "      <td>(0, 10]</td>\n",
       "    </tr>\n",
       "  </tbody>\n",
       "</table>\n",
       "<p>5 rows × 21 columns</p>\n",
       "</div>"
      ],
      "text/plain": [
       "       loan_amnt  funded_amnt  funded_amnt_inv term int_rate  installment  \\\n",
       "14127       3600         3600           3600.0   36    17.99       130.14   \n",
       "18724      15000        15000          15000.0   36    16.40       530.33   \n",
       "23127       8000         8000           8000.0   36    13.35       270.91   \n",
       "23381      10000        10000          10000.0   36    10.36       324.37   \n",
       "31554       3000         3000           3000.0   36    16.82       106.69   \n",
       "\n",
       "      grade sub_grade             emp_title  wrk_experience  ... annual_inc  \\\n",
       "14127     E        E1    DENT FIX EQUIPMENT           100.0  ...    85000.0   \n",
       "18724     E        E1     DELTA MECHANICAL              6.0  ...    98000.0   \n",
       "23127     C        C4          Regions Bank             0.0  ...    34000.0   \n",
       "23381     B        B5  Armand morin network             7.0  ...    45600.0   \n",
       "31554     E        E2        JPMorgan Chase             9.0  ...    37100.0   \n",
       "\n",
       "       verification_status loan_funded_date  loan_status             purpose  \\\n",
       "14127      Source Verified           Jun-11   Fully Paid  debt_consolidation   \n",
       "18724      Source Verified           Mar-11  Charged Off  debt_consolidation   \n",
       "23127             Verified           Nov-10   Fully Paid         credit_card   \n",
       "23381      Source Verified           Nov-10  Charged Off         credit_card   \n",
       "31554         Not Verified           Mar-10   Fully Paid               other   \n",
       "\n",
       "                         title State debt_income_ratio  bankruptcies  \\\n",
       "14127  Debt Consolidation Loan    CA              6.35           2.0   \n",
       "18724  DEBT CONSOLIDATION LOAN    AZ             11.41           2.0   \n",
       "23127            Consolidation    NC             16.62           2.0   \n",
       "23381                Cc payoff    NC             15.92           2.0   \n",
       "31554             Dental Works    AZ             17.92           2.0   \n",
       "\n",
       "       Wrk_experience_range  \n",
       "14127             (10, 100]  \n",
       "18724               (0, 10]  \n",
       "23127               (-1, 0]  \n",
       "23381               (0, 10]  \n",
       "31554               (0, 10]  \n",
       "\n",
       "[5 rows x 21 columns]"
      ]
     },
     "execution_count": 54,
     "metadata": {},
     "output_type": "execute_result"
    }
   ],
   "source": [
    "#2. 'bankruptcies' is another ordered categorical variable. \n",
    "# Finding maximum bankruptcy in the given data set and finding the entries corresponding to that\n",
    "bankruptcies_df = Final_loan1[Final_loan1['bankruptcies'] == Final_loan1['bankruptcies'].max()]"
   ]
  },
  {
   "cell_type": "code",
   "execution_count": null,
   "id": "89bc3e60",
   "metadata": {},
   "outputs": [],
   "source": [
    "#Observation : There are five entries where more than 1 bankruptcy is reported. These members could be directly blacklisted for further approvals\n",
    "# We could also define criteria that more than 1 bankruptcy loan wont be given"
   ]
  },
  {
   "cell_type": "code",
   "execution_count": 27,
   "id": "c7a3362f",
   "metadata": {},
   "outputs": [
    {
     "name": "stderr",
     "output_type": "stream",
     "text": [
      "C:\\Users\\kosala.priya.c.r@sap.com\\AppData\\Local\\Temp\\ipykernel_3868\\3622316899.py:12: DtypeWarning: Columns (47) have mixed types. Specify dtype option on import or set low_memory=False.\n",
      "  df = pd.read_csv('loan.csv')\n"
     ]
    },
    {
     "data": {
      "text/plain": [
       "<Axes: >"
      ]
     },
     "execution_count": 27,
     "metadata": {},
     "output_type": "execute_result"
    },
    {
     "data": {
      "image/png": "[encoded data removed]",
      "text/plain": [
       "<Figure size 640x480 with 1 Axes>"
      ]
     },
     "metadata": {},
     "output_type": "display_data"
    }
   ],
   "source": [
    "#3. 'purpose' is a unordered categorical variable -  Plotting Rank-Frequency plot for this could give us useful insights\n",
    "Final_loan1['purpose'].value_counts().plot(kind=\"bar\")"
   ]
  },
  {
   "cell_type": "code",
   "execution_count": null,
   "id": "bbbb1bfe",
   "metadata": {},
   "outputs": [],
   "source": [
    "#Observation : from the given data set, people have taken loan mainly for debt_consolidation "
   ]
  },
  {
   "cell_type": "code",
   "execution_count": 61,
   "id": "387d588f",
   "metadata": {},
   "outputs": [
    {
     "data": {
      "text/plain": [
       "<Axes: >"
      ]
     },
     "execution_count": 61,
     "metadata": {},
     "output_type": "execute_result"
    },
    {
     "data": {
      "image/png": "[encoded data removed]",
      "text/plain": [
       "<Figure size 640x480 with 1 Axes>"
      ]
     },
     "metadata": {},
     "output_type": "display_data"
    }
   ],
   "source": [
    "#4. Home ownership is another categorical but unordered set of data\n",
    "#Taking the mode of this could give us some insights\n",
    "\n",
    "Final_loan1['home_ownership'].value_counts().plot(kind=\"line\")\n"
   ]
  },
  {
   "cell_type": "code",
   "execution_count": 62,
   "id": "c9b608fd",
   "metadata": {},
   "outputs": [],
   "source": [
    "#Observation : people who own houses rarely take loans"
   ]
  },
  {
   "cell_type": "code",
   "execution_count": 75,
   "id": "f34f1582",
   "metadata": {},
   "outputs": [],
   "source": [
    "#5. State is an unordered categorical variable. Lets plot the Rank-frequency plot to see the behaviour\n",
    "#Final_loan1['State'].value_counts()\n",
    "############################################Discuss what kind of plot can be used\n",
    " "
   ]
  },
  {
   "cell_type": "code",
   "execution_count": 77,
   "id": "59740843",
   "metadata": {},
   "outputs": [
    {
     "data": {
      "text/plain": [
       "29.99"
      ]
     },
     "execution_count": 77,
     "metadata": {},
     "output_type": "execute_result"
    }
   ],
   "source": [
    "#6. \"debt_income_ratio\" is a quantitative variable\n",
    "Final_loan1['debt_income_ratio'].max()"
   ]
  },
  {
   "cell_type": "code",
   "execution_count": null,
   "id": "67f8e206",
   "metadata": {},
   "outputs": [],
   "source": []
  },
  {
   "cell_type": "code",
   "execution_count": null,
   "id": "be376a16",
   "metadata": {},
   "outputs": [],
   "source": []
  },
  {
   "cell_type": "code",
   "execution_count": null,
   "id": "f2a9e82a",
   "metadata": {},
   "outputs": [],
   "source": []
  },
  {
   "cell_type": "code",
   "execution_count": null,
   "id": "0660228e",
   "metadata": {},
   "outputs": [],
   "source": []
  }
 ],
 "metadata": {
  "kernelspec": {
   "display_name": "Python 3 (ipykernel)",
   "language": "python",
   "name": "python3"
  },
  "language_info": {
   "codemirror_mode": {
    "name": "ipython",
    "version": 3
   },
   "file_extension": ".py",
   "mimetype": "text/x-python",
   "name": "python",
   "nbconvert_exporter": "python",
   "pygments_lexer": "ipython3",
   "version": "3.10.9"
  }
 },
 "nbformat": 4,
 "nbformat_minor": 5
}
